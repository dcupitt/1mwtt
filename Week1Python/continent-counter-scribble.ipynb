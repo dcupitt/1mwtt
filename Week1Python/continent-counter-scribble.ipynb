{
 "cells": [
  {
   "cell_type": "code",
   "execution_count": 1,
   "metadata": {},
   "outputs": [],
   "source": [
    "import random\n",
    "M = 'land'\n",
    "o = 'water'"
   ]
  },
  {
   "cell_type": "code",
   "execution_count": 2,
   "metadata": {},
   "outputs": [],
   "source": [
    "def create_wld(wld_sz):\n",
    "    world = []\n",
    "    for w in range(0,wld_sz):\n",
    "        row = []\n",
    "        i = 0\n",
    "        while i < wld_sz:\n",
    "            if random.randrange(2) == 0:\n",
    "                tile = o\n",
    "                row.append(tile)\n",
    "                i = i + 1\n",
    "            else:\n",
    "                tile = M\n",
    "                row.append(tile)\n",
    "                i = i + 1\n",
    "        world.append(row)\n",
    "    print(world)\n",
    "    return world"
   ]
  },
  {
   "cell_type": "code",
   "execution_count": 4,
   "metadata": {},
   "outputs": [
    {
     "name": "stdout",
     "output_type": "stream",
     "text": [
      "What size would you like your world to be? Please choose a number between 2 and 50.  11\n",
      "[['water', 'water', 'water', 'water', 'water', 'water', 'water', 'water', 'land', 'land', 'water'], ['water', 'water', 'land', 'land', 'land', 'water', 'land', 'land', 'water', 'land', 'land'], ['water', 'land', 'water', 'land', 'water', 'water', 'land', 'land', 'water', 'land', 'land'], ['water', 'water', 'water', 'water', 'land', 'water', 'land', 'water', 'water', 'water', 'land'], ['land', 'water', 'water', 'land', 'land', 'land', 'land', 'water', 'land', 'land', 'land'], ['land', 'water', 'water', 'water', 'land', 'water', 'land', 'water', 'land', 'water', 'water'], ['land', 'land', 'water', 'land', 'land', 'water', 'water', 'water', 'water', 'land', 'water'], ['land', 'water', 'land', 'water', 'water', 'water', 'land', 'water', 'land', 'land', 'land'], ['water', 'water', 'water', 'land', 'land', 'water', 'land', 'water', 'water', 'water', 'land'], ['water', 'land', 'water', 'water', 'land', 'land', 'land', 'land', 'land', 'water', 'land'], ['water', 'land', 'water', 'land', 'land', 'land', 'water', 'land', 'water', 'land', 'land']]\n",
      "What \"x\" coordinate would you like to land on? You must choose a number between 0 and 11:  8\n",
      "8\n",
      "8\n",
      "What \"y\" coordinate would you like to land on? You must choose a number between 0 and 11:  0\n",
      "0\n",
      "0\n"
     ]
    }
   ],
   "source": [
    "world_size_input = int(input('What size would you like your world to be? Please choose a number between 2 and 50.  '))\n",
    "\n",
    "def check_sz(wld_sz_input):\n",
    "    while wld_sz_input < 0 or wld_sz_input >= 50:\n",
    "        wld_sz_input = int(input('What size would you like your world to be? Please choose a number between 2 and 50. '))\n",
    "    return wld_sz_input\n",
    "\n",
    "wld_sz_fnl = check_sz(world_size_input)\n",
    "world = create_wld(wld_sz_fnl)\n",
    "\n",
    "x_coordinate = int(input('What \"x\" coordinate would you like to land on? You must choose a number between 0 and ' + str(wld_sz_fnl) + \":  \"))\n",
    "print(x_coordinate)\n",
    "\n",
    "def check_x(wld_sz, x):\n",
    "    while x < 0 or x > wld_sz:\n",
    "        x = int(input('What \"x\" coordinate would you like to land on? You must choose a number between 0 and ' + str(wld_sz) + \":  \"))\n",
    "    return x\n",
    "\n",
    "x_fnl = check_x(wld_sz_fnl, x_coordinate)\n",
    "print(x_fnl)\n",
    "\n",
    "y_coordinate = int(input('What \"y\" coordinate would you like to land on? You must choose a number between 0 and ' + str(wld_sz_fnl) + \":  \"))\n",
    "print(y_coordinate)\n",
    "\n",
    "def check_y(wld_sz, y):\n",
    "    while y < 0 or y > wld_sz:\n",
    "        y = int(input('What \"y\" coordinate would you like to land on? You must choose a number between 0 and ' + str(wld_sz) + \":  \"))\n",
    "    return y\n",
    "\n",
    "y_fnl = check_y(wld_sz_fnl, y_coordinate)\n",
    "print(y_fnl)\n"
   ]
  },
  {
   "cell_type": "code",
   "execution_count": 5,
   "metadata": {},
   "outputs": [],
   "source": [
    "def continent_counter(world, x, y):\n",
    "    #print(str(x) + str(y) + str(a) + str(b))\n",
    "    if x >= len(world) or x < 0 or y >= len(world) or y < 0:\n",
    "        return 0\n",
    "    if world[y][x] != 'land':\n",
    "        return 0\n",
    "    size = 1\n",
    "    world[y][x] = 'counted land'\n",
    "\n",
    "    # row above\n",
    "    size = size + continent_counter(world, x-1, y-1)\n",
    "    size = size + continent_counter(world, x  , y-1)\n",
    "    size = size + continent_counter(world, x+1, y-1)\n",
    "\n",
    "    # same row\n",
    "    size = size + continent_counter(world, x-1, y  )\n",
    "    size = size + continent_counter(world, x+1, y  )\n",
    "\n",
    "    # row below\n",
    "    size = size + continent_counter(world, x-1, y+1)\n",
    "    size = size + continent_counter(world, x  , y+1)\n",
    "    size = size + continent_counter(world, x+1, y+1)\n",
    "    return size"
   ]
  },
  {
   "cell_type": "code",
   "execution_count": 8,
   "metadata": {},
   "outputs": [
    {
     "name": "stdout",
     "output_type": "stream",
     "text": [
      "0\n"
     ]
    }
   ],
   "source": [
    "your_continent = continent_counter(world, x_fnl, y_fnl)\n",
    "\n",
    "print(your_continent)\n",
    "\n",
    "print(\"The size of the continent you landed on at coordinates (\" + str(x_fnl) + \", \" + str(y_fnl) + \") is: \" + str(your_continent) + \" hectares\")\n"
   ]
  },
  {
   "cell_type": "code",
   "execution_count": null,
   "metadata": {},
   "outputs": [],
   "source": []
  }
 ],
 "metadata": {
  "kernelspec": {
   "display_name": "Python 3",
   "language": "python",
   "name": "python3"
  },
  "language_info": {
   "codemirror_mode": {
    "name": "ipython",
    "version": 3
   },
   "file_extension": ".py",
   "mimetype": "text/x-python",
   "name": "python",
   "nbconvert_exporter": "python",
   "pygments_lexer": "ipython3",
   "version": "3.6.5"
  }
 },
 "nbformat": 4,
 "nbformat_minor": 2
}
