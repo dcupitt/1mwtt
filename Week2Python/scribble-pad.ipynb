{
 "cells": [
  {
   "cell_type": "code",
   "execution_count": 35,
   "metadata": {},
   "outputs": [
    {
     "name": "stdout",
     "output_type": "stream",
     "text": [
      "Project Gutenberg’s Alice’s Ad\n"
     ]
    }
   ],
   "source": [
    "filename = \"alice_in_wonderland.txt\"\n",
    "file = open(filename, \"r\")\n",
    "raw = file.read()\n",
    "lc_alice = raw.lower()\n",
    "alice_test = raw[0:30]\n",
    "print(alice_test)\n",
    "lc_alice_test = alice_test.lower()"
   ]
  },
  {
   "cell_type": "code",
   "execution_count": 36,
   "metadata": {},
   "outputs": [],
   "source": [
    "def alphabet_setup():\n",
    "    alphabet_list = []\n",
    "    for i in range(97,97+26):\n",
    "        alphabet_list.append([chr(i), 0])\n",
    "    return alphabet_list\n",
    "\n",
    "alphabet_count = alphabet_setup()\n",
    "alphabet_count_test = alphabet_setup()"
   ]
  },
  {
   "cell_type": "code",
   "execution_count": 37,
   "metadata": {},
   "outputs": [],
   "source": [
    "def check_chr(book, list):\n",
    "    letter_count = list\n",
    "    n = 0\n",
    "#     while n < 100:\n",
    "    for b in book:\n",
    "        for l in letter_count:\n",
    "            if l[0] == b:\n",
    "                l[1] = int(l[1]) + 1\n",
    "#                 n = n + 1\n",
    "                print(str(b) + str(n))\n",
    "#             else:\n",
    "#                 n = n + 1\n",
    "    print(letter_count)\n",
    "    return letter_count"
   ]
  },
  {
   "cell_type": "code",
   "execution_count": 38,
   "metadata": {},
   "outputs": [
    {
     "name": "stdout",
     "output_type": "stream",
     "text": [
      "p0\n",
      "r0\n",
      "o0\n",
      "j0\n",
      "e0\n",
      "c0\n",
      "t0\n",
      "g0\n",
      "u0\n",
      "t0\n",
      "e0\n",
      "n0\n",
      "b0\n",
      "e0\n",
      "r0\n",
      "g0\n",
      "s0\n",
      "a0\n",
      "l0\n",
      "i0\n",
      "c0\n",
      "e0\n",
      "s0\n",
      "a0\n",
      "d0\n",
      "[['a', 2], ['b', 1], ['c', 2], ['d', 1], ['e', 4], ['f', 0], ['g', 2], ['h', 0], ['i', 1], ['j', 1], ['k', 0], ['l', 1], ['m', 0], ['n', 1], ['o', 1], ['p', 1], ['q', 0], ['r', 2], ['s', 2], ['t', 2], ['u', 1], ['v', 0], ['w', 0], ['x', 0], ['y', 0], ['z', 0]]\n"
     ]
    },
    {
     "data": {
      "text/plain": [
       "[['a', 2],\n",
       " ['b', 1],\n",
       " ['c', 2],\n",
       " ['d', 1],\n",
       " ['e', 4],\n",
       " ['f', 0],\n",
       " ['g', 2],\n",
       " ['h', 0],\n",
       " ['i', 1],\n",
       " ['j', 1],\n",
       " ['k', 0],\n",
       " ['l', 1],\n",
       " ['m', 0],\n",
       " ['n', 1],\n",
       " ['o', 1],\n",
       " ['p', 1],\n",
       " ['q', 0],\n",
       " ['r', 2],\n",
       " ['s', 2],\n",
       " ['t', 2],\n",
       " ['u', 1],\n",
       " ['v', 0],\n",
       " ['w', 0],\n",
       " ['x', 0],\n",
       " ['y', 0],\n",
       " ['z', 0]]"
      ]
     },
     "execution_count": 38,
     "metadata": {},
     "output_type": "execute_result"
    }
   ],
   "source": [
    "check_chr(lc_alice_test, alphabet_count_test)"
   ]
  },
  {
   "cell_type": "code",
   "execution_count": 7,
   "metadata": {},
   "outputs": [
    {
     "data": {
      "text/plain": [
       "0"
      ]
     },
     "execution_count": 7,
     "metadata": {},
     "output_type": "execute_result"
    }
   ],
   "source": [
    "int(0)"
   ]
  },
  {
   "cell_type": "code",
   "execution_count": 14,
   "metadata": {},
   "outputs": [],
   "source": [
    "testlist = [1,2,3,4]"
   ]
  },
  {
   "cell_type": "code",
   "execution_count": null,
   "metadata": {},
   "outputs": [],
   "source": [
    "while n < len(testlist):\n",
    "    print()"
   ]
  }
 ],
 "metadata": {
  "kernelspec": {
   "display_name": "Python 3",
   "language": "python",
   "name": "python3"
  },
  "language_info": {
   "codemirror_mode": {
    "name": "ipython",
    "version": 3
   },
   "file_extension": ".py",
   "mimetype": "text/x-python",
   "name": "python",
   "nbconvert_exporter": "python",
   "pygments_lexer": "ipython3",
   "version": "3.6.5"
  }
 },
 "nbformat": 4,
 "nbformat_minor": 2
}
