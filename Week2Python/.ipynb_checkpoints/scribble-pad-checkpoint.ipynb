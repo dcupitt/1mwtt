{
 "cells": [
  {
   "cell_type": "code",
   "execution_count": 23,
   "metadata": {},
   "outputs": [
    {
     "name": "stdout",
     "output_type": "stream",
     "text": [
      "Project Gutenberg’s Alice’s Ad\n"
     ]
    }
   ],
   "source": [
    "filename = \"alice_in_wonderland.txt\"\n",
    "file = open(filename, \"r\")\n",
    "raw = file.read()\n",
    "lc_alice = raw.lower()\n",
    "alice_test = raw[0:30]\n",
    "print(alice_test)\n",
    "lc_alice_test = alice_test.lower()\n"
   ]
  },
  {
   "cell_type": "code",
   "execution_count": 24,
   "metadata": {},
   "outputs": [],
   "source": [
    "def alphabet_setup():\n",
    "    alphabet_list = []\n",
    "    for i in range(97,97+26):\n",
    "        alphabet_list.append([chr(i), 0])\n",
    "    return alphabet_list\n",
    "\n",
    "alphabet_count = alphabet_setup()\n",
    "alphabet_count_test = alphabet_setup()"
   ]
  },
  {
   "cell_type": "code",
   "execution_count": 25,
   "metadata": {},
   "outputs": [],
   "source": [
    "def check_chr(book, list):\n",
    "    letter_count = list\n",
    "    n = 0\n",
    "#     while n < 100:\n",
    "    for b in book:\n",
    "        for l in letter_count:\n",
    "            if l[0] == b:\n",
    "                l[1] = int(l[1]) + 1\n",
    "                n = n + 1\n",
    "                print(str(b) + str(n))\n",
    "            else:\n",
    "                n = n + 1\n",
    "    print(letter_count)\n",
    "    return letter_count"
   ]
  },
  {
   "cell_type": "code",
   "execution_count": 26,
   "metadata": {},
   "outputs": [
    {
     "name": "stdout",
     "output_type": "stream",
     "text": [
      "p1\n",
      "r2\n",
      "o3\n",
      "j4\n",
      "e5\n",
      "c6\n",
      "t7\n",
      "g8\n",
      "u9\n",
      "t10\n",
      "e11\n",
      "n12\n",
      "b13\n",
      "e14\n",
      "r15\n",
      "g16\n",
      "s17\n",
      "a18\n",
      "l19\n",
      "i20\n",
      "c21\n",
      "e22\n",
      "s23\n",
      "a24\n",
      "d25\n",
      "p26\n",
      "r27\n",
      "o28\n",
      "j29\n",
      "e30\n",
      "c31\n",
      "t32\n",
      "g33\n",
      "u34\n",
      "t35\n",
      "e36\n",
      "n37\n",
      "b38\n",
      "e39\n",
      "r40\n",
      "g41\n",
      "s42\n",
      "a43\n",
      "l44\n",
      "i45\n",
      "c46\n",
      "e47\n",
      "s48\n",
      "a49\n",
      "d50\n",
      "p51\n",
      "r52\n",
      "o53\n",
      "j54\n",
      "e55\n",
      "c56\n",
      "t57\n",
      "g58\n",
      "u59\n",
      "t60\n",
      "e61\n",
      "n62\n",
      "b63\n",
      "e64\n",
      "r65\n",
      "g66\n",
      "s67\n",
      "a68\n",
      "l69\n",
      "i70\n",
      "c71\n",
      "e72\n",
      "s73\n",
      "a74\n",
      "d75\n",
      "p76\n",
      "r77\n",
      "o78\n",
      "j79\n",
      "e80\n",
      "c81\n",
      "t82\n",
      "g83\n",
      "u84\n",
      "t85\n",
      "e86\n",
      "n87\n",
      "b88\n",
      "e89\n",
      "r90\n",
      "g91\n",
      "s92\n",
      "a93\n",
      "l94\n",
      "i95\n",
      "c96\n",
      "e97\n",
      "s98\n",
      "a99\n",
      "d100\n",
      "[['a', 8], ['b', 4], ['c', 8], ['d', 4], ['e', 16], ['f', 0], ['g', 8], ['h', 0], ['i', 4], ['j', 4], ['k', 0], ['l', 4], ['m', 0], ['n', 4], ['o', 4], ['p', 4], ['q', 0], ['r', 8], ['s', 8], ['t', 8], ['u', 4], ['v', 0], ['w', 0], ['x', 0], ['y', 0], ['z', 0]]\n"
     ]
    },
    {
     "data": {
      "text/plain": [
       "[['a', 8],\n",
       " ['b', 4],\n",
       " ['c', 8],\n",
       " ['d', 4],\n",
       " ['e', 16],\n",
       " ['f', 0],\n",
       " ['g', 8],\n",
       " ['h', 0],\n",
       " ['i', 4],\n",
       " ['j', 4],\n",
       " ['k', 0],\n",
       " ['l', 4],\n",
       " ['m', 0],\n",
       " ['n', 4],\n",
       " ['o', 4],\n",
       " ['p', 4],\n",
       " ['q', 0],\n",
       " ['r', 8],\n",
       " ['s', 8],\n",
       " ['t', 8],\n",
       " ['u', 4],\n",
       " ['v', 0],\n",
       " ['w', 0],\n",
       " ['x', 0],\n",
       " ['y', 0],\n",
       " ['z', 0]]"
      ]
     },
     "execution_count": 26,
     "metadata": {},
     "output_type": "execute_result"
    }
   ],
   "source": [
    "check_chr(lc_alice_test, alphabet_count_test)"
   ]
  },
  {
   "cell_type": "code",
   "execution_count": 7,
   "metadata": {},
   "outputs": [
    {
     "data": {
      "text/plain": [
       "0"
      ]
     },
     "execution_count": 7,
     "metadata": {},
     "output_type": "execute_result"
    }
   ],
   "source": [
    "int(0)"
   ]
  },
  {
   "cell_type": "code",
   "execution_count": 14,
   "metadata": {},
   "outputs": [],
   "source": [
    "testlist = [1,2,3,4]"
   ]
  },
  {
   "cell_type": "code",
   "execution_count": null,
   "metadata": {},
   "outputs": [],
   "source": [
    "while n < len(testlist):\n",
    "    print()"
   ]
  }
 ],
 "metadata": {
  "kernelspec": {
   "display_name": "Python 3",
   "language": "python",
   "name": "python3"
  },
  "language_info": {
   "codemirror_mode": {
    "name": "ipython",
    "version": 3
   },
   "file_extension": ".py",
   "mimetype": "text/x-python",
   "name": "python",
   "nbconvert_exporter": "python",
   "pygments_lexer": "ipython3",
   "version": "3.6.5"
  }
 },
 "nbformat": 4,
 "nbformat_minor": 2
}
